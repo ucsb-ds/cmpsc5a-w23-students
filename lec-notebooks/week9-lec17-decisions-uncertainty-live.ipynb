{
 "cells": [
  {
   "cell_type": "code",
   "execution_count": null,
   "metadata": {},
   "outputs": [],
   "source": [
    "from datascience import *\n",
    "import numpy as np\n",
    "\n",
    "%matplotlib inline\n",
    "import matplotlib.pyplot as plots\n",
    "plots.style.use('fivethirtyeight')"
   ]
  },
  {
   "cell_type": "markdown",
   "metadata": {},
   "source": [
    "## The GSI's Defense ##"
   ]
  },
  {
   "cell_type": "code",
   "execution_count": null,
   "metadata": {},
   "outputs": [],
   "source": [
    "scores = Table.read_table('data/scores_by_section.csv')\n",
    "scores\n",
    "scores.sort('Midterm', descending = True)\n",
    "# max score of 25 on midterm"
   ]
  },
  {
   "cell_type": "code",
   "execution_count": null,
   "metadata": {},
   "outputs": [],
   "source": [
    "np.average(scores.column('Midterm'))\n",
    "# entire class' average midterm score"
   ]
  },
  {
   "cell_type": "code",
   "execution_count": null,
   "metadata": {},
   "outputs": [],
   "source": [
    "scores.group('Section').show()\n",
    "# section 3 which complained about their low midterm score\n",
    "# has 27 students"
   ]
  },
  {
   "cell_type": "code",
   "execution_count": null,
   "metadata": {},
   "outputs": [],
   "source": [
    "scores.group('Section', np.average).sort('Midterm average').show()"
   ]
  },
  {
   "cell_type": "code",
   "execution_count": null,
   "metadata": {},
   "outputs": [],
   "source": [
    "observed_average = 13.6667 \n",
    "# observed test statistic\n",
    "# avg midterm score for section 3\n",
    "\n",
    "# GOAL:\n",
    "# simulate under the null (grad students perspective)\n",
    "# and see if we can ever simulate the observed test statistic\n",
    "# which is avg midterm score of 13.6667\n",
    "\n",
    "\n",
    "# if we are able to simulate the obs. test statistic a bunch, this makes us want to side with the grad student\n",
    "# this means our null hypothesis and our data are consistent\n",
    "\n",
    "\n",
    "# if we aren't able to simulate the obs. test. stat. at all, it'll make us lean towards the UG perspective\n",
    "# this means our null hypothesis and our data are INCONSISTENT\n"
   ]
  },
  {
   "cell_type": "code",
   "execution_count": null,
   "metadata": {},
   "outputs": [],
   "source": [
    "random_sample = scores.sample(27, with_replacement=False)\n",
    "random_sample\n",
    "# simulate a new section 3 from entire class roster"
   ]
  },
  {
   "cell_type": "code",
   "execution_count": null,
   "metadata": {},
   "outputs": [],
   "source": [
    "np.average(random_sample.column('Midterm'))"
   ]
  },
  {
   "cell_type": "code",
   "execution_count": null,
   "metadata": {},
   "outputs": [],
   "source": [
    "# Simulate one value of the test statistic \n",
    "# under the hypothesis that the section is like a random sample from the class\n",
    "\n",
    "def random_sample_midterm_avg():\n",
    "    random_sample = scores.sample(27, with_replacement = False)\n",
    "    return np.average(random_sample.column('Midterm'))"
   ]
  },
  {
   "cell_type": "code",
   "execution_count": null,
   "metadata": {},
   "outputs": [],
   "source": [
    "# Simulate 50,000 copies of the test statistic\n",
    "\n",
    "sample_averages = make_array()\n",
    "\n",
    "for i in np.arange(50000):\n",
    "    sample_averages = np.append(sample_averages, random_sample_midterm_avg())    "
   ]
  },
  {
   "cell_type": "code",
   "execution_count": null,
   "metadata": {},
   "outputs": [],
   "source": [
    "dist = abs(sample_averages - observed_average)\n",
    "dist\n"
   ]
  },
  {
   "cell_type": "code",
   "execution_count": null,
   "metadata": {},
   "outputs": [],
   "source": [
    "# Compare the simulated distribution of the statistic\n",
    "# and the actual observed statistic\n",
    "\n",
    "#averages_tbl = Table().with_column('Random Sample Average', sample_averages)\n",
    "averages_tbl = Table().with_column('Abs Distance of Random Sample Average from Observed Average', dist)\n",
    "\n",
    "averages_tbl.hist(bins = 20)\n",
    "plots.scatter(0, 0, color = 'red', s=40);\n",
    "\n",
    "# were we able to simulate the observed test statistic?\n",
    "\n",
    "# is our data consistent with our null hypothesis?\n",
    "\n",
    "\n",
    "# who do you side with? Grads or UGs?\n",
    "# not sure yet....\n",
    "\n",
    "\n",
    "# were we able to simulate the observed test statistic enough times for us to side with Grads? (null hypothesis)\n",
    "\n"
   ]
  },
  {
   "cell_type": "code",
   "execution_count": null,
   "metadata": {},
   "outputs": [],
   "source": [
    "# test statistic = average midterm score\n",
    "# obs test stat = 13.6667\n",
    "\n",
    "# what values of our test statistic make us lean toward the null?\n",
    "# high values (to the RIGHT of our graph)\n",
    "\n",
    "\n",
    "# what values of our test statistc make us lean toward the altnerative?\n",
    "#low (to the LEFT of our graph)\n",
    "\n"
   ]
  },
  {
   "cell_type": "code",
   "execution_count": null,
   "metadata": {},
   "outputs": [],
   "source": [
    "np.average(sample_averages)"
   ]
  },
  {
   "cell_type": "code",
   "execution_count": null,
   "metadata": {},
   "outputs": [],
   "source": [
    "sum(sample_averages <= observed_average)"
   ]
  },
  {
   "cell_type": "code",
   "execution_count": null,
   "metadata": {},
   "outputs": [],
   "source": [
    "sum(sample_averages <= observed_average) / 50000"
   ]
  },
  {
   "cell_type": "code",
   "execution_count": null,
   "metadata": {},
   "outputs": [],
   "source": [
    "averages_tbl"
   ]
  },
  {
   "cell_type": "code",
   "execution_count": null,
   "metadata": {},
   "outputs": [],
   "source": [
    "# 5% of 50,000 = 2500\n",
    "\n",
    "five_percent_point = averages_tbl.sort(0).column(0).item(2500)\n",
    "five_percent_point"
   ]
  },
  {
   "cell_type": "code",
   "execution_count": null,
   "metadata": {},
   "outputs": [],
   "source": [
    "averages_tbl.hist(bins = 20)\n",
    "plots.plot([five_percent_point, five_percent_point], [0, 0.35], color='gold', lw=2)\n",
    "plots.title('Area to the left of the gold line: 5%');"
   ]
  },
  {
   "cell_type": "code",
   "execution_count": null,
   "metadata": {},
   "outputs": [],
   "source": []
  }
 ],
 "metadata": {
  "anaconda-cloud": {},
  "kernelspec": {
   "display_name": "Python 3 (ipykernel)",
   "language": "python",
   "name": "python3"
  },
  "language_info": {
   "codemirror_mode": {
    "name": "ipython",
    "version": 3
   },
   "file_extension": ".py",
   "mimetype": "text/x-python",
   "name": "python",
   "nbconvert_exporter": "python",
   "pygments_lexer": "ipython3",
   "version": "3.10.6"
  },
  "toc": {
   "base_numbering": 1,
   "nav_menu": {},
   "number_sections": true,
   "sideBar": true,
   "skip_h1_title": false,
   "title_cell": "Table of Contents",
   "title_sidebar": "Contents",
   "toc_cell": false,
   "toc_position": {},
   "toc_section_display": true,
   "toc_window_display": false
  }
 },
 "nbformat": 4,
 "nbformat_minor": 1
}
