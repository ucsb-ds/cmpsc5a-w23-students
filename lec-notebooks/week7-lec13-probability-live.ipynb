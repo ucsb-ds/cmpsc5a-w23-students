{
 "cells": [
  {
   "cell_type": "code",
   "execution_count": 1,
   "metadata": {},
   "outputs": [],
   "source": [
    "from datascience import *\n",
    "import numpy as np\n",
    "\n",
    "%matplotlib inline\n",
    "import matplotlib.pyplot as plots\n",
    "plots.style.use('fivethirtyeight')"
   ]
  },
  {
   "cell_type": "markdown",
   "metadata": {},
   "source": [
    "## Simulation"
   ]
  },
  {
   "cell_type": "code",
   "execution_count": 2,
   "metadata": {},
   "outputs": [
    {
     "data": {
      "text/plain": [
       "array(['heads', 'tails'],\n",
       "      dtype='<U5')"
      ]
     },
     "execution_count": 2,
     "metadata": {},
     "output_type": "execute_result"
    }
   ],
   "source": [
    "outcomes = make_array('heads', 'tails')\n",
    "outcomes"
   ]
  },
  {
   "cell_type": "code",
   "execution_count": 10,
   "metadata": {},
   "outputs": [
    {
     "data": {
      "text/plain": [
       "'tails'"
      ]
     },
     "execution_count": 10,
     "metadata": {},
     "output_type": "execute_result"
    }
   ],
   "source": [
    "np.random.choice(outcomes)"
   ]
  },
  {
   "cell_type": "code",
   "execution_count": 11,
   "metadata": {},
   "outputs": [
    {
     "data": {
      "text/plain": [
       "array(['heads', 'heads', 'tails', 'heads', 'heads', 'heads', 'heads',\n",
       "       'tails', 'tails', 'heads'],\n",
       "      dtype='<U5')"
      ]
     },
     "execution_count": 11,
     "metadata": {},
     "output_type": "execute_result"
    }
   ],
   "source": [
    "np.random.choice(outcomes, 10)\n",
    "# simulate 10 coin tosses"
   ]
  },
  {
   "cell_type": "code",
   "execution_count": 12,
   "metadata": {},
   "outputs": [
    {
     "data": {
      "text/plain": [
       "array([ True, False, False,  True,  True,  True, False,  True, False,  True], dtype=bool)"
      ]
     },
     "execution_count": 12,
     "metadata": {},
     "output_type": "execute_result"
    }
   ],
   "source": [
    "np.random.choice(outcomes, 10) == 'heads' # we are checking for equality here, where in my array does it equal heads?\n",
    "# what does this output?\n",
    "# and what does it mean?\n",
    "\n"
   ]
  },
  {
   "cell_type": "code",
   "execution_count": 13,
   "metadata": {},
   "outputs": [
    {
     "data": {
      "text/plain": [
       "5"
      ]
     },
     "execution_count": 13,
     "metadata": {},
     "output_type": "execute_result"
    }
   ],
   "source": [
    "sum(np.random.choice(outcomes, 10) == 'heads')\n",
    "# for example:\n",
    "# sum(array([ True, False, False,  True,  True,  True, False,  True, False,  True]))\n",
    "# sum(array([  1,     0,       0,     1,     1,     1,   0,      1,    0,      1]))\n",
    "# counting 1's or counting Trues\n",
    "# counting number of Heads\n",
    "# what does 5 mean?\n",
    "# 5 heads"
   ]
  },
  {
   "cell_type": "code",
   "execution_count": 14,
   "metadata": {},
   "outputs": [
    {
     "data": {
      "text/plain": [
       "4"
      ]
     },
     "execution_count": 14,
     "metadata": {},
     "output_type": "execute_result"
    }
   ],
   "source": [
    "sum(np.random.choice(outcomes, 10) == 'tails')"
   ]
  },
  {
   "cell_type": "code",
   "execution_count": 15,
   "metadata": {},
   "outputs": [],
   "source": [
    "flips = np.random.choice(outcomes, 10)"
   ]
  },
  {
   "cell_type": "code",
   "execution_count": 16,
   "metadata": {},
   "outputs": [
    {
     "data": {
      "text/plain": [
       "2"
      ]
     },
     "execution_count": 16,
     "metadata": {},
     "output_type": "execute_result"
    }
   ],
   "source": [
    "sum(flips == 'heads')"
   ]
  },
  {
   "cell_type": "code",
   "execution_count": 17,
   "metadata": {},
   "outputs": [
    {
     "data": {
      "text/plain": [
       "8"
      ]
     },
     "execution_count": 17,
     "metadata": {},
     "output_type": "execute_result"
    }
   ],
   "source": [
    "sum(flips == 'tails')"
   ]
  },
  {
   "cell_type": "code",
   "execution_count": 18,
   "metadata": {},
   "outputs": [],
   "source": [
    "def heads_in_100_tosses():\n",
    "    return sum(np.random.choice(outcomes, 100) == 'heads')"
   ]
  },
  {
   "cell_type": "code",
   "execution_count": 22,
   "metadata": {},
   "outputs": [
    {
     "data": {
      "text/plain": [
       "52"
      ]
     },
     "execution_count": 22,
     "metadata": {},
     "output_type": "execute_result"
    }
   ],
   "source": [
    "heads_in_100_tosses()"
   ]
  },
  {
   "cell_type": "code",
   "execution_count": 23,
   "metadata": {},
   "outputs": [
    {
     "data": {
      "text/plain": [
       "55"
      ]
     },
     "execution_count": 23,
     "metadata": {},
     "output_type": "execute_result"
    }
   ],
   "source": [
    "heads_in_100_tosses()"
   ]
  },
  {
   "cell_type": "code",
   "execution_count": 24,
   "metadata": {},
   "outputs": [
    {
     "data": {
      "text/plain": [
       "57"
      ]
     },
     "execution_count": 24,
     "metadata": {},
     "output_type": "execute_result"
    }
   ],
   "source": [
    "heads_in_100_tosses()"
   ]
  },
  {
   "cell_type": "code",
   "execution_count": 19,
   "metadata": {
    "scrolled": true
   },
   "outputs": [
    {
     "data": {
      "text/plain": [
       "array([ 52.,  45.,  43., ...,  58.,  50.,  46.])"
      ]
     },
     "execution_count": 19,
     "metadata": {},
     "output_type": "execute_result"
    }
   ],
   "source": [
    "results = make_array() # initializing an empty array, to collect stuff later\n",
    "\n",
    "for i in np.arange(10000):\n",
    "    results = np.append(results, heads_in_100_tosses())\n",
    "    \n",
    "results"
   ]
  },
  {
   "cell_type": "code",
   "execution_count": 25,
   "metadata": {},
   "outputs": [
    {
     "data": {
      "text/plain": [
       "10000"
      ]
     },
     "execution_count": 25,
     "metadata": {},
     "output_type": "execute_result"
    }
   ],
   "source": [
    "len(results)"
   ]
  },
  {
   "cell_type": "code",
   "execution_count": 20,
   "metadata": {},
   "outputs": [
    {
     "data": {
      "text/html": [
       "<table border=\"1\" class=\"dataframe\">\n",
       "    <thead>\n",
       "        <tr>\n",
       "            <th>Heads</th>\n",
       "        </tr>\n",
       "    </thead>\n",
       "    <tbody>\n",
       "        <tr>\n",
       "            <td>52   </td>\n",
       "        </tr>\n",
       "        <tr>\n",
       "            <td>45   </td>\n",
       "        </tr>\n",
       "        <tr>\n",
       "            <td>43   </td>\n",
       "        </tr>\n",
       "        <tr>\n",
       "            <td>46   </td>\n",
       "        </tr>\n",
       "        <tr>\n",
       "            <td>61   </td>\n",
       "        </tr>\n",
       "        <tr>\n",
       "            <td>42   </td>\n",
       "        </tr>\n",
       "        <tr>\n",
       "            <td>45   </td>\n",
       "        </tr>\n",
       "        <tr>\n",
       "            <td>50   </td>\n",
       "        </tr>\n",
       "        <tr>\n",
       "            <td>48   </td>\n",
       "        </tr>\n",
       "        <tr>\n",
       "            <td>51   </td>\n",
       "        </tr>\n",
       "    </tbody>\n",
       "</table>\n",
       "<p>... (9990 rows omitted)</p>"
      ],
      "text/plain": [
       "Heads\n",
       "52\n",
       "45\n",
       "43\n",
       "46\n",
       "61\n",
       "42\n",
       "45\n",
       "50\n",
       "48\n",
       "51\n",
       "... (9990 rows omitted)"
      ]
     },
     "execution_count": 20,
     "metadata": {},
     "output_type": "execute_result"
    }
   ],
   "source": [
    "heads = Table().with_columns('Heads', results)\n",
    "heads"
   ]
  },
  {
   "cell_type": "code",
   "execution_count": 21,
   "metadata": {},
   "outputs": [
    {
     "data": {
      "image/png": "[encoded data removed]",
      "text/plain": [
       "<Figure size 600x400 with 1 Axes>"
      ]
     },
     "metadata": {},
     "output_type": "display_data"
    }
   ],
   "source": [
    "heads.hist('Heads', bins=np.arange(24.5, 76.5))"
   ]
  },
  {
   "cell_type": "code",
   "execution_count": 26,
   "metadata": {},
   "outputs": [],
   "source": [
    "# can you write a function that calculates number of tails?\n",
    "def tails_in_100_tosses():\n",
    "    return sum(np.random.choice(outcomes, 100) == 'tails')\n",
    "\n",
    "\n",
    "\n"
   ]
  },
  {
   "cell_type": "code",
   "execution_count": 27,
   "metadata": {},
   "outputs": [
    {
     "data": {
      "text/plain": [
       "array([ 44.,  45.,  54., ...,  48.,  46.,  48.])"
      ]
     },
     "execution_count": 27,
     "metadata": {},
     "output_type": "execute_result"
    }
   ],
   "source": [
    "# bonus: can you simulate 10,000 games of 100 tosses each? calculating number of tails?\n",
    "results = make_array() # initializing an empty array, to collect stuff later\n",
    "\n",
    "for i in np.arange(10000): # np.arange(10000) = (0, 1, .... 9999),\n",
    "    results = np.append(results, tails_in_100_tosses())\n",
    "    \n",
    "results\n"
   ]
  },
  {
   "cell_type": "code",
   "execution_count": 35,
   "metadata": {},
   "outputs": [
    {
     "data": {
      "text/plain": [
       "array([ 58.,  47.,  54., ...,  56.,  46.,  43.])"
      ]
     },
     "execution_count": 35,
     "metadata": {},
     "output_type": "execute_result"
    }
   ],
   "source": [
    "results = make_array() # initializing an empty array, to collect stuff later\n",
    "\n",
    "for i in np.arange(10000): # np.arange(10) = (0, 1, .... 9),\n",
    "    #print(\"i = \", i)\n",
    "    #print(\"loop number = \", i+1)\n",
    "    results = np.append(results, tails_in_100_tosses())\n",
    "    #print(\"results = \", results)\n",
    "    \n",
    "results"
   ]
  },
  {
   "cell_type": "code",
   "execution_count": 28,
   "metadata": {},
   "outputs": [
    {
     "data": {
      "text/plain": [
       "10000"
      ]
     },
     "execution_count": 28,
     "metadata": {},
     "output_type": "execute_result"
    }
   ],
   "source": [
    "len(results)"
   ]
  },
  {
   "cell_type": "code",
   "execution_count": 29,
   "metadata": {},
   "outputs": [
    {
     "data": {
      "image/png": "[encoded data removed]",
      "text/plain": [
       "<Figure size 600x400 with 1 Axes>"
      ]
     },
     "metadata": {},
     "output_type": "display_data"
    }
   ],
   "source": [
    "# bonus, bonus: create a histogram like the one above but for tails\n",
    "tails = Table().with_columns('Tails', results)\n",
    "\n",
    "tails.hist('Tails', bins=np.arange(24.5, 76.5))\n"
   ]
  },
  {
   "cell_type": "code",
   "execution_count": null,
   "metadata": {},
   "outputs": [],
   "source": [
    "# OR we could have used out original Heads table\n",
    "# extracted the heads column as an array\n",
    "# subtract that array from 100, this gives us number of tails in each of those games of 100 tosses\n",
    "# add that tails array back to heads\n",
    "# and generate a histogram from the \"tails\" instead\n",
    "\n",
    "# try for yourself"
   ]
  },
  {
   "cell_type": "markdown",
   "metadata": {},
   "source": [
    "## Monty Hall"
   ]
  },
  {
   "cell_type": "code",
   "execution_count": 36,
   "metadata": {},
   "outputs": [
    {
     "data": {
      "text/plain": [
       "array(['car', 'first goat', 'second goat'],\n",
       "      dtype='<U11')"
      ]
     },
     "execution_count": 36,
     "metadata": {},
     "output_type": "execute_result"
    }
   ],
   "source": [
    "doors = make_array('car', 'first goat', 'second goat')\n",
    "doors"
   ]
  },
  {
   "cell_type": "code",
   "execution_count": 41,
   "metadata": {},
   "outputs": [],
   "source": [
    "goats = make_array('first goat', 'second goat')\n",
    "\n",
    "def other_goat(a_goat):\n",
    "    if a_goat == 'first goat':\n",
    "        return 'second goat'\n",
    "    elif a_goat == 'second goat':\n",
    "        return 'first goat'\n",
    "    else: # considers every other case, besides 'first goat' and 'second goat'\n",
    "        print(\"enter 'first goat' or 'second goat'\")\n"
   ]
  },
  {
   "cell_type": "code",
   "execution_count": 38,
   "metadata": {},
   "outputs": [
    {
     "data": {
      "text/plain": [
       "'second goat'"
      ]
     },
     "execution_count": 38,
     "metadata": {},
     "output_type": "execute_result"
    }
   ],
   "source": [
    "other_goat('first goat')"
   ]
  },
  {
   "cell_type": "code",
   "execution_count": 39,
   "metadata": {},
   "outputs": [
    {
     "data": {
      "text/plain": [
       "'first goat'"
      ]
     },
     "execution_count": 39,
     "metadata": {},
     "output_type": "execute_result"
    }
   ],
   "source": [
    "other_goat('second goat')"
   ]
  },
  {
   "cell_type": "code",
   "execution_count": 42,
   "metadata": {},
   "outputs": [
    {
     "name": "stdout",
     "output_type": "stream",
     "text": [
      "enter 'first goat' or 'second goat'\n"
     ]
    }
   ],
   "source": [
    "other_goat('wheeler hall')"
   ]
  },
  {
   "cell_type": "code",
   "execution_count": 43,
   "metadata": {},
   "outputs": [
    {
     "name": "stdout",
     "output_type": "stream",
     "text": [
      "enter 'first goat' or 'second goat'\n"
     ]
    }
   ],
   "source": [
    "other_goat(1)"
   ]
  },
  {
   "cell_type": "code",
   "execution_count": 44,
   "metadata": {},
   "outputs": [],
   "source": [
    "def monty_hall():\n",
    "    \n",
    "    contestant_choice = np.random.choice(doors) # randomly select from first goat, second goat or car\n",
    "    \n",
    "    if contestant_choice == 'first goat':\n",
    "        monty_choice = 'second goat'\n",
    "        remaining_door = 'car'\n",
    "        \n",
    "    elif contestant_choice == 'second goat':\n",
    "        monty_choice = 'first goat'\n",
    "        remaining_door = 'car'\n",
    "        \n",
    "    elif contestant_choice == 'car':\n",
    "        monty_choice = np.random.choice(goats) # monty can choose from either first goat or second goat\n",
    "        remaining_door = other_goat(monty_choice) # remaining door is second goat or first goat\n",
    "        \n",
    "    return [contestant_choice, monty_choice, remaining_door]"
   ]
  },
  {
   "cell_type": "code",
   "execution_count": 48,
   "metadata": {},
   "outputs": [
    {
     "data": {
      "text/plain": [
       "list"
      ]
     },
     "execution_count": 48,
     "metadata": {},
     "output_type": "execute_result"
    }
   ],
   "source": [
    "# what is the data type that is returned from monty_hall?\n",
    "\n",
    "# what do the values mean?\n",
    "\n",
    "type(['this','is','a','list'])"
   ]
  },
  {
   "cell_type": "code",
   "execution_count": 49,
   "metadata": {},
   "outputs": [
    {
     "data": {
      "text/plain": [
       "numpy.ndarray"
      ]
     },
     "execution_count": 49,
     "metadata": {},
     "output_type": "execute_result"
    }
   ],
   "source": [
    "type(make_array('this is an', 'array'))"
   ]
  },
  {
   "cell_type": "code",
   "execution_count": 56,
   "metadata": {},
   "outputs": [
    {
     "data": {
      "text/plain": [
       "['first goat', 'second goat', 'car']"
      ]
     },
     "execution_count": 56,
     "metadata": {},
     "output_type": "execute_result"
    }
   ],
   "source": [
    "monty_hall()\n",
    "# the correct answer is to swap!"
   ]
  },
  {
   "cell_type": "code",
   "execution_count": 58,
   "metadata": {},
   "outputs": [
    {
     "data": {
      "text/html": [
       "<table border=\"1\" class=\"dataframe\">\n",
       "    <thead>\n",
       "        <tr>\n",
       "            <th>Guess</th> <th>Revealed</th> <th>Remaining</th>\n",
       "        </tr>\n",
       "    </thead>\n",
       "    <tbody>\n",
       "    </tbody>\n",
       "</table>"
      ],
      "text/plain": [
       "Guess | Revealed | Remaining"
      ]
     },
     "execution_count": 58,
     "metadata": {},
     "output_type": "execute_result"
    }
   ],
   "source": [
    "games = Table(['Guess', 'Revealed', 'Remaining'])\n",
    "games"
   ]
  },
  {
   "cell_type": "code",
   "execution_count": 68,
   "metadata": {},
   "outputs": [
    {
     "data": {
      "text/html": [
       "<table border=\"1\" class=\"dataframe\">\n",
       "    <thead>\n",
       "        <tr>\n",
       "            <th>Guess</th> <th>Revealed</th> <th>Remaining</th>\n",
       "        </tr>\n",
       "    </thead>\n",
       "    <tbody>\n",
       "        <tr>\n",
       "            <td>car        </td> <td>first goat </td> <td>second goat</td>\n",
       "        </tr>\n",
       "        <tr>\n",
       "            <td>first goat </td> <td>second goat</td> <td>car        </td>\n",
       "        </tr>\n",
       "        <tr>\n",
       "            <td>second goat</td> <td>first goat </td> <td>car        </td>\n",
       "        </tr>\n",
       "        <tr>\n",
       "            <td>first goat </td> <td>second goat</td> <td>car        </td>\n",
       "        </tr>\n",
       "        <tr>\n",
       "            <td>first goat </td> <td>second goat</td> <td>car        </td>\n",
       "        </tr>\n",
       "        <tr>\n",
       "            <td>second goat</td> <td>first goat </td> <td>car        </td>\n",
       "        </tr>\n",
       "        <tr>\n",
       "            <td>first goat </td> <td>second goat</td> <td>car        </td>\n",
       "        </tr>\n",
       "        <tr>\n",
       "            <td>first goat </td> <td>second goat</td> <td>car        </td>\n",
       "        </tr>\n",
       "        <tr>\n",
       "            <td>second goat</td> <td>first goat </td> <td>car        </td>\n",
       "        </tr>\n",
       "        <tr>\n",
       "            <td>second goat</td> <td>first goat </td> <td>car        </td>\n",
       "        </tr>\n",
       "    </tbody>\n",
       "</table>"
      ],
      "text/plain": [
       "Guess       | Revealed    | Remaining\n",
       "car         | first goat  | second goat\n",
       "first goat  | second goat | car\n",
       "second goat | first goat  | car\n",
       "first goat  | second goat | car\n",
       "first goat  | second goat | car\n",
       "second goat | first goat  | car\n",
       "first goat  | second goat | car\n",
       "first goat  | second goat | car\n",
       "second goat | first goat  | car\n",
       "second goat | first goat  | car"
      ]
     },
     "execution_count": 68,
     "metadata": {},
     "output_type": "execute_result"
    }
   ],
   "source": [
    "games.append(monty_hall()) \n",
    "# monty_hall() returns a list, essentially a row for the above table\n",
    "# first entry is contestants choice or guess\n",
    "# second entry is monty hall's revealed door\n",
    "# third entry is remaining door (which i can swap or not)"
   ]
  },
  {
   "cell_type": "code",
   "execution_count": 69,
   "metadata": {},
   "outputs": [
    {
     "data": {
      "text/html": [
       "<table border=\"1\" class=\"dataframe\">\n",
       "    <thead>\n",
       "        <tr>\n",
       "            <th>Guess</th> <th>Revealed</th> <th>Remaining</th>\n",
       "        </tr>\n",
       "    </thead>\n",
       "    <tbody>\n",
       "        <tr>\n",
       "            <td>second goat</td> <td>first goat </td> <td>car        </td>\n",
       "        </tr>\n",
       "        <tr>\n",
       "            <td>first goat </td> <td>second goat</td> <td>car        </td>\n",
       "        </tr>\n",
       "        <tr>\n",
       "            <td>first goat </td> <td>second goat</td> <td>car        </td>\n",
       "        </tr>\n",
       "        <tr>\n",
       "            <td>car        </td> <td>first goat </td> <td>second goat</td>\n",
       "        </tr>\n",
       "        <tr>\n",
       "            <td>first goat </td> <td>second goat</td> <td>car        </td>\n",
       "        </tr>\n",
       "        <tr>\n",
       "            <td>second goat</td> <td>first goat </td> <td>car        </td>\n",
       "        </tr>\n",
       "        <tr>\n",
       "            <td>first goat </td> <td>second goat</td> <td>car        </td>\n",
       "        </tr>\n",
       "        <tr>\n",
       "            <td>second goat</td> <td>first goat </td> <td>car        </td>\n",
       "        </tr>\n",
       "        <tr>\n",
       "            <td>second goat</td> <td>first goat </td> <td>car        </td>\n",
       "        </tr>\n",
       "        <tr>\n",
       "            <td>car        </td> <td>second goat</td> <td>first goat </td>\n",
       "        </tr>\n",
       "    </tbody>\n",
       "</table>\n",
       "<p>... (2990 rows omitted)</p>"
      ],
      "text/plain": [
       "Guess       | Revealed    | Remaining\n",
       "second goat | first goat  | car\n",
       "first goat  | second goat | car\n",
       "first goat  | second goat | car\n",
       "car         | first goat  | second goat\n",
       "first goat  | second goat | car\n",
       "second goat | first goat  | car\n",
       "first goat  | second goat | car\n",
       "second goat | first goat  | car\n",
       "second goat | first goat  | car\n",
       "car         | second goat | first goat\n",
       "... (2990 rows omitted)"
      ]
     },
     "execution_count": 69,
     "metadata": {},
     "output_type": "execute_result"
    }
   ],
   "source": [
    "games = Table(['Guess', 'Revealed', 'Remaining'])\n",
    "for i in range(3000):\n",
    "    games.append(monty_hall())\n",
    "    \n",
    "games"
   ]
  },
  {
   "cell_type": "code",
   "execution_count": 70,
   "metadata": {},
   "outputs": [
    {
     "data": {
      "text/html": [
       "<table border=\"1\" class=\"dataframe\">\n",
       "    <thead>\n",
       "        <tr>\n",
       "            <th>Remaining</th> <th>count</th>\n",
       "        </tr>\n",
       "    </thead>\n",
       "    <tbody>\n",
       "        <tr>\n",
       "            <td>car        </td> <td>1987 </td>\n",
       "        </tr>\n",
       "        <tr>\n",
       "            <td>first goat </td> <td>506  </td>\n",
       "        </tr>\n",
       "        <tr>\n",
       "            <td>second goat</td> <td>507  </td>\n",
       "        </tr>\n",
       "    </tbody>\n",
       "</table>"
      ],
      "text/plain": [
       "Remaining   | count\n",
       "car         | 1987\n",
       "first goat  | 506\n",
       "second goat | 507"
      ]
     },
     "execution_count": 70,
     "metadata": {},
     "output_type": "execute_result"
    }
   ],
   "source": [
    "games.group('Remaining')\n",
    "# # how many times was the remaining door a car vs a goat?\n",
    "\n",
    "# does this mean i should swap or not?"
   ]
  },
  {
   "cell_type": "code",
   "execution_count": 71,
   "metadata": {
    "scrolled": true
   },
   "outputs": [
    {
     "data": {
      "text/html": [
       "<table border=\"1\" class=\"dataframe\">\n",
       "    <thead>\n",
       "        <tr>\n",
       "            <th>Guess</th> <th>count</th>\n",
       "        </tr>\n",
       "    </thead>\n",
       "    <tbody>\n",
       "        <tr>\n",
       "            <td>car        </td> <td>1013 </td>\n",
       "        </tr>\n",
       "        <tr>\n",
       "            <td>first goat </td> <td>1013 </td>\n",
       "        </tr>\n",
       "        <tr>\n",
       "            <td>second goat</td> <td>974  </td>\n",
       "        </tr>\n",
       "    </tbody>\n",
       "</table>"
      ],
      "text/plain": [
       "Guess       | count\n",
       "car         | 1013\n",
       "first goat  | 1013\n",
       "second goat | 974"
      ]
     },
     "execution_count": 71,
     "metadata": {},
     "output_type": "execute_result"
    }
   ],
   "source": [
    "games.group('Guess')\n",
    "# how many times was our first choice a car vs a goat?\n",
    "\n",
    "# does this mean i should swap or not?"
   ]
  },
  {
   "cell_type": "code",
   "execution_count": null,
   "metadata": {},
   "outputs": [],
   "source": []
  }
 ],
 "metadata": {
  "kernelspec": {
   "display_name": "Python 3 (ipykernel)",
   "language": "python",
   "name": "python3"
  },
  "language_info": {
   "codemirror_mode": {
    "name": "ipython",
    "version": 3
   },
   "file_extension": ".py",
   "mimetype": "text/x-python",
   "name": "python",
   "nbconvert_exporter": "python",
   "pygments_lexer": "ipython3",
   "version": "3.10.6"
  },
  "toc": {
   "base_numbering": 1,
   "nav_menu": {},
   "number_sections": true,
   "sideBar": true,
   "skip_h1_title": false,
   "title_cell": "Table of Contents",
   "title_sidebar": "Contents",
   "toc_cell": false,
   "toc_position": {},
   "toc_section_display": true,
   "toc_window_display": false
  }
 },
 "nbformat": 4,
 "nbformat_minor": 2
}
