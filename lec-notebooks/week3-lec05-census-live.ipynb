{
 "cells": [
  {
   "cell_type": "code",
   "execution_count": 3,
   "metadata": {},
   "outputs": [],
   "source": [
    "from datascience import *\n",
    "import numpy as np\n",
    "\n",
    "%matplotlib inline\n",
    "import matplotlib.pyplot as plots\n",
    "plots.style.use('fivethirtyeight')"
   ]
  },
  {
   "cell_type": "markdown",
   "metadata": {},
   "source": [
    "## Discussion Question: NBA Salaries"
   ]
  },
  {
   "cell_type": "code",
   "execution_count": 4,
   "metadata": {},
   "outputs": [
    {
     "data": {
      "text/html": [
       "<table border=\"1\" class=\"dataframe\">\n",
       "    <thead>\n",
       "        <tr>\n",
       "            <th>PLAYER</th> <th>POSITION</th> <th>SALARY</th>\n",
       "        </tr>\n",
       "    </thead>\n",
       "    <tbody>\n",
       "        <tr>\n",
       "            <td>Paul Millsap  </td> <td>PF      </td> <td>18.6717</td>\n",
       "        </tr>\n",
       "        <tr>\n",
       "            <td>Al Horford    </td> <td>C       </td> <td>12     </td>\n",
       "        </tr>\n",
       "        <tr>\n",
       "            <td>Tiago Splitter</td> <td>C       </td> <td>9.75625</td>\n",
       "        </tr>\n",
       "    </tbody>\n",
       "</table>\n",
       "<p>... (414 rows omitted)</p>"
      ],
      "text/plain": [
       "<IPython.core.display.HTML object>"
      ]
     },
     "metadata": {},
     "output_type": "display_data"
    }
   ],
   "source": [
    "nba = Table.read_table('data/nba_salaries.csv')\n",
    "nba = nba.relabeled(3, 'SALARY').drop('TEAM')\n",
    "nba.show(3)"
   ]
  },
  {
   "cell_type": "code",
   "execution_count": 6,
   "metadata": {},
   "outputs": [
    {
     "data": {
      "text/plain": [
       "array(['Derrick Rose', 'Kyrie Irving', 'Chris Paul', 'Russell Westbrook',\n",
       "       'John Wall'],\n",
       "      dtype='<U24')"
      ]
     },
     "execution_count": 6,
     "metadata": {},
     "output_type": "execute_result"
    }
   ],
   "source": [
    "# Question (a)\n",
    "\n",
    "\n",
    "\n",
    "\n",
    "\n",
    "\n",
    "\n",
    "\n",
    "\n",
    "guards = nba.where('POSITION', 'PG')\n",
    "#print(guards)\n",
    "guards.where('SALARY', are.above(15)).column('PLAYER')"
   ]
  },
  {
   "cell_type": "code",
   "execution_count": 12,
   "metadata": {},
   "outputs": [
    {
     "data": {
      "text/plain": [
       "3"
      ]
     },
     "execution_count": 12,
     "metadata": {},
     "output_type": "execute_result"
    }
   ],
   "source": [
    "# Question (b)\n",
    "# after evaluating the two lines of code below\n",
    "# what's the result of the second line?\n",
    "\n",
    "\n",
    "\n",
    "\n",
    "\n",
    "\n",
    "\n",
    "\n",
    "nba.drop('POSITION') # .drop doesn't by default change the original table UNLESS you assign the table operation\n",
    "# to a new table name\n",
    "nba_player_salary_only = nba.drop('POSITION')\n",
    "nba_player_salary_only\n",
    "#nba_player_salary_only.num_columns\n",
    "nba.num_columns"
   ]
  },
  {
   "cell_type": "code",
   "execution_count": 17,
   "metadata": {},
   "outputs": [
    {
     "ename": "SyntaxError",
     "evalue": "unterminated string literal (detected at line 1) (1962627443.py, line 1)",
     "output_type": "error",
     "traceback": [
      "\u001b[0;36m  Cell \u001b[0;32mIn [17], line 1\u001b[0;36m\u001b[0m\n\u001b[0;31m    nba.where(POSITION')\u001b[0m\n\u001b[0m                      ^\u001b[0m\n\u001b[0;31mSyntaxError\u001b[0m\u001b[0;31m:\u001b[0m unterminated string literal (detected at line 1)\n"
     ]
    }
   ],
   "source": [
    "nba.where('POSITION')"
   ]
  },
  {
   "cell_type": "markdown",
   "metadata": {},
   "source": [
    "## Census: Population Trends ##"
   ]
  },
  {
   "cell_type": "code",
   "execution_count": 18,
   "metadata": {},
   "outputs": [
    {
     "data": {
      "text/html": [
       "<table border=\"1\" class=\"dataframe\">\n",
       "    <thead>\n",
       "        <tr>\n",
       "            <th>SEX</th> <th>AGE</th> <th>CENSUS2010POP</th> <th>ESTIMATESBASE2010</th> <th>POPESTIMATE2010</th> <th>POPESTIMATE2011</th> <th>POPESTIMATE2012</th> <th>POPESTIMATE2013</th> <th>POPESTIMATE2014</th> <th>POPESTIMATE2015</th> <th>POPESTIMATE2016</th> <th>POPESTIMATE2017</th> <th>POPESTIMATE2018</th> <th>POPESTIMATE2019</th>\n",
       "        </tr>\n",
       "    </thead>\n",
       "    <tbody>\n",
       "        <tr>\n",
       "            <td>0   </td> <td>0   </td> <td>3944153      </td> <td>3944160          </td> <td>3951430        </td> <td>3963092        </td> <td>3926570        </td> <td>3931258        </td> <td>3954787        </td> <td>3983981        </td> <td>3954773        </td> <td>3893990        </td> <td>3815343        </td> <td>3783052        </td>\n",
       "        </tr>\n",
       "        <tr>\n",
       "            <td>0   </td> <td>1   </td> <td>3978070      </td> <td>3978090          </td> <td>3957730        </td> <td>3966225        </td> <td>3977549        </td> <td>3942698        </td> <td>3948891        </td> <td>3973133        </td> <td>4002903        </td> <td>3972711        </td> <td>3908830        </td> <td>3829599        </td>\n",
       "        </tr>\n",
       "        <tr>\n",
       "            <td>0   </td> <td>2   </td> <td>4096929      </td> <td>4096939          </td> <td>4090621        </td> <td>3970654        </td> <td>3978925        </td> <td>3991740        </td> <td>3958711        </td> <td>3966321        </td> <td>3991349        </td> <td>4020045        </td> <td>3987032        </td> <td>3922044        </td>\n",
       "        </tr>\n",
       "        <tr>\n",
       "            <td>0   </td> <td>3   </td> <td>4119040      </td> <td>4119051          </td> <td>4111688        </td> <td>4101644        </td> <td>3981531        </td> <td>3991017        </td> <td>4005928        </td> <td>3974351        </td> <td>3982984        </td> <td>4006946        </td> <td>4033038        </td> <td>3998665        </td>\n",
       "        </tr>\n",
       "        <tr>\n",
       "            <td>0   </td> <td>4   </td> <td>4063170      </td> <td>4063186          </td> <td>4077346        </td> <td>4121488        </td> <td>4111490        </td> <td>3992502        </td> <td>4004032        </td> <td>4020292        </td> <td>3989750        </td> <td>3997280        </td> <td>4018719        </td> <td>4043323        </td>\n",
       "        </tr>\n",
       "        <tr>\n",
       "            <td>0   </td> <td>5   </td> <td>4056858      </td> <td>4056872          </td> <td>4064521        </td> <td>4087054        </td> <td>4131049        </td> <td>4121876        </td> <td>4004576        </td> <td>4017589        </td> <td>4035033        </td> <td>4003452        </td> <td>4008443        </td> <td>4028281        </td>\n",
       "        </tr>\n",
       "        <tr>\n",
       "            <td>0   </td> <td>6   </td> <td>4066381      </td> <td>4066412          </td> <td>4072904        </td> <td>4074531        </td> <td>4096631        </td> <td>4141126        </td> <td>4133372        </td> <td>4017388        </td> <td>4031568        </td> <td>4048018        </td> <td>4014057        </td> <td>4017227        </td>\n",
       "        </tr>\n",
       "        <tr>\n",
       "            <td>0   </td> <td>7   </td> <td>4030579      </td> <td>4030594          </td> <td>4042990        </td> <td>4082821        </td> <td>4084175        </td> <td>4106756        </td> <td>4152666        </td> <td>4145872        </td> <td>4030888        </td> <td>4044139        </td> <td>4058370        </td> <td>4022319        </td>\n",
       "        </tr>\n",
       "        <tr>\n",
       "            <td>0   </td> <td>8   </td> <td>4046486      </td> <td>4046497          </td> <td>4025501        </td> <td>4052773        </td> <td>4092559        </td> <td>4094513        </td> <td>4118349        </td> <td>4165033        </td> <td>4158848        </td> <td>4042924        </td> <td>4054236        </td> <td>4066194        </td>\n",
       "        </tr>\n",
       "        <tr>\n",
       "            <td>0   </td> <td>9   </td> <td>4148353      </td> <td>4148369          </td> <td>4125312        </td> <td>4035319        </td> <td>4062726        </td> <td>4103052        </td> <td>4106068        </td> <td>4130887        </td> <td>4177895        </td> <td>4170813        </td> <td>4053179        </td> <td>4061874        </td>\n",
       "        </tr>\n",
       "    </tbody>\n",
       "</table>\n",
       "<p>... (296 rows omitted)</p>"
      ],
      "text/plain": [
       "SEX  | AGE  | CENSUS2010POP | ESTIMATESBASE2010 | POPESTIMATE2010 | POPESTIMATE2011 | POPESTIMATE2012 | POPESTIMATE2013 | POPESTIMATE2014 | POPESTIMATE2015 | POPESTIMATE2016 | POPESTIMATE2017 | POPESTIMATE2018 | POPESTIMATE2019\n",
       "0    | 0    | 3944153       | 3944160           | 3951430         | 3963092         | 3926570         | 3931258         | 3954787         | 3983981         | 3954773         | 3893990         | 3815343         | 3783052\n",
       "0    | 1    | 3978070       | 3978090           | 3957730         | 3966225         | 3977549         | 3942698         | 3948891         | 3973133         | 4002903         | 3972711         | 3908830         | 3829599\n",
       "0    | 2    | 4096929       | 4096939           | 4090621         | 3970654         | 3978925         | 3991740         | 3958711         | 3966321         | 3991349         | 4020045         | 3987032         | 3922044\n",
       "0    | 3    | 4119040       | 4119051           | 4111688         | 4101644         | 3981531         | 3991017         | 4005928         | 3974351         | 3982984         | 4006946         | 4033038         | 3998665\n",
       "0    | 4    | 4063170       | 4063186           | 4077346         | 4121488         | 4111490         | 3992502         | 4004032         | 4020292         | 3989750         | 3997280         | 4018719         | 4043323\n",
       "0    | 5    | 4056858       | 4056872           | 4064521         | 4087054         | 4131049         | 4121876         | 4004576         | 4017589         | 4035033         | 4003452         | 4008443         | 4028281\n",
       "0    | 6    | 4066381       | 4066412           | 4072904         | 4074531         | 4096631         | 4141126         | 4133372         | 4017388         | 4031568         | 4048018         | 4014057         | 4017227\n",
       "0    | 7    | 4030579       | 4030594           | 4042990         | 4082821         | 4084175         | 4106756         | 4152666         | 4145872         | 4030888         | 4044139         | 4058370         | 4022319\n",
       "0    | 8    | 4046486       | 4046497           | 4025501         | 4052773         | 4092559         | 4094513         | 4118349         | 4165033         | 4158848         | 4042924         | 4054236         | 4066194\n",
       "0    | 9    | 4148353       | 4148369           | 4125312         | 4035319         | 4062726         | 4103052         | 4106068         | 4130887         | 4177895         | 4170813         | 4053179         | 4061874\n",
       "... (296 rows omitted)"
      ]
     },
     "execution_count": 18,
     "metadata": {},
     "output_type": "execute_result"
    }
   ],
   "source": [
    "# As of August 2021, this census file is online here: \n",
    "data = 'http://www2.census.gov/programs-surveys/popest/technical-documentation/file-layouts/2010-2019/nc-est2019-agesex-res.csv'\n",
    "#\n",
    "# A description of the table appears online.\n",
    "# https://www2.census.gov/programs-surveys/popest/technical-documentation/file-layouts/2010-2019/nc-est2019-agesex-res.pdf\n",
    "\n",
    "full_census_table = Table.read_table(data)\n",
    "full_census_table"
   ]
  },
  {
   "cell_type": "markdown",
   "metadata": {},
   "source": [
    "[A description of the table appears online.](https://www2.census.gov/programs-surveys/popest/technical-documentation/file-layouts/2010-2019/nc-est2019-agesex-res.pdf)\n",
    "\n",
    "The Census dataset contain estimates of the US population in each category of sex and age in the years 2010 through 2019. The Census is decennial: it takes place every 10 years. The most recent Census was held in 2020 and the one before that in 2010. The Census Bureau also estimates population changes each year. As explained in the Bureau’s description of its methodology, it “adds [the estimated changes] to the last decennial census to produce updated population estimates every year.”\n",
    "\n"
   ]
  },
  {
   "cell_type": "code",
   "execution_count": 19,
   "metadata": {},
   "outputs": [
    {
     "data": {
      "text/html": [
       "<table border=\"1\" class=\"dataframe\">\n",
       "    <thead>\n",
       "        <tr>\n",
       "            <th>SEX</th> <th>AGE</th> <th>POPESTIMATE2014</th> <th>POPESTIMATE2019</th>\n",
       "        </tr>\n",
       "    </thead>\n",
       "    <tbody>\n",
       "        <tr>\n",
       "            <td>0   </td> <td>0   </td> <td>3954787        </td> <td>3783052        </td>\n",
       "        </tr>\n",
       "        <tr>\n",
       "            <td>0   </td> <td>1   </td> <td>3948891        </td> <td>3829599        </td>\n",
       "        </tr>\n",
       "        <tr>\n",
       "            <td>0   </td> <td>2   </td> <td>3958711        </td> <td>3922044        </td>\n",
       "        </tr>\n",
       "        <tr>\n",
       "            <td>0   </td> <td>3   </td> <td>4005928        </td> <td>3998665        </td>\n",
       "        </tr>\n",
       "        <tr>\n",
       "            <td>0   </td> <td>4   </td> <td>4004032        </td> <td>4043323        </td>\n",
       "        </tr>\n",
       "        <tr>\n",
       "            <td>0   </td> <td>5   </td> <td>4004576        </td> <td>4028281        </td>\n",
       "        </tr>\n",
       "        <tr>\n",
       "            <td>0   </td> <td>6   </td> <td>4133372        </td> <td>4017227        </td>\n",
       "        </tr>\n",
       "        <tr>\n",
       "            <td>0   </td> <td>7   </td> <td>4152666        </td> <td>4022319        </td>\n",
       "        </tr>\n",
       "        <tr>\n",
       "            <td>0   </td> <td>8   </td> <td>4118349        </td> <td>4066194        </td>\n",
       "        </tr>\n",
       "        <tr>\n",
       "            <td>0   </td> <td>9   </td> <td>4106068        </td> <td>4061874        </td>\n",
       "        </tr>\n",
       "    </tbody>\n",
       "</table>\n",
       "<p>... (296 rows omitted)</p>"
      ],
      "text/plain": [
       "SEX  | AGE  | POPESTIMATE2014 | POPESTIMATE2019\n",
       "0    | 0    | 3954787         | 3783052\n",
       "0    | 1    | 3948891         | 3829599\n",
       "0    | 2    | 3958711         | 3922044\n",
       "0    | 3    | 4005928         | 3998665\n",
       "0    | 4    | 4004032         | 4043323\n",
       "0    | 5    | 4004576         | 4028281\n",
       "0    | 6    | 4133372         | 4017227\n",
       "0    | 7    | 4152666         | 4022319\n",
       "0    | 8    | 4118349         | 4066194\n",
       "0    | 9    | 4106068         | 4061874\n",
       "... (296 rows omitted)"
      ]
     },
     "execution_count": 19,
     "metadata": {},
     "output_type": "execute_result"
    }
   ],
   "source": [
    "partial_census_table = full_census_table.select('SEX', 'AGE', 'POPESTIMATE2014', 'POPESTIMATE2019')\n",
    "partial_census_table"
   ]
  },
  {
   "cell_type": "code",
   "execution_count": 20,
   "metadata": {},
   "outputs": [
    {
     "data": {
      "text/html": [
       "<table border=\"1\" class=\"dataframe\">\n",
       "    <thead>\n",
       "        <tr>\n",
       "            <th>SEX</th> <th>AGE</th> <th>2014</th> <th>2019</th>\n",
       "        </tr>\n",
       "    </thead>\n",
       "    <tbody>\n",
       "        <tr>\n",
       "            <td>0   </td> <td>0   </td> <td>3954787</td> <td>3783052</td>\n",
       "        </tr>\n",
       "        <tr>\n",
       "            <td>0   </td> <td>1   </td> <td>3948891</td> <td>3829599</td>\n",
       "        </tr>\n",
       "        <tr>\n",
       "            <td>0   </td> <td>2   </td> <td>3958711</td> <td>3922044</td>\n",
       "        </tr>\n",
       "        <tr>\n",
       "            <td>0   </td> <td>3   </td> <td>4005928</td> <td>3998665</td>\n",
       "        </tr>\n",
       "        <tr>\n",
       "            <td>0   </td> <td>4   </td> <td>4004032</td> <td>4043323</td>\n",
       "        </tr>\n",
       "        <tr>\n",
       "            <td>0   </td> <td>5   </td> <td>4004576</td> <td>4028281</td>\n",
       "        </tr>\n",
       "        <tr>\n",
       "            <td>0   </td> <td>6   </td> <td>4133372</td> <td>4017227</td>\n",
       "        </tr>\n",
       "        <tr>\n",
       "            <td>0   </td> <td>7   </td> <td>4152666</td> <td>4022319</td>\n",
       "        </tr>\n",
       "        <tr>\n",
       "            <td>0   </td> <td>8   </td> <td>4118349</td> <td>4066194</td>\n",
       "        </tr>\n",
       "        <tr>\n",
       "            <td>0   </td> <td>9   </td> <td>4106068</td> <td>4061874</td>\n",
       "        </tr>\n",
       "    </tbody>\n",
       "</table>\n",
       "<p>... (296 rows omitted)</p>"
      ],
      "text/plain": [
       "SEX  | AGE  | 2014    | 2019\n",
       "0    | 0    | 3954787 | 3783052\n",
       "0    | 1    | 3948891 | 3829599\n",
       "0    | 2    | 3958711 | 3922044\n",
       "0    | 3    | 4005928 | 3998665\n",
       "0    | 4    | 4004032 | 4043323\n",
       "0    | 5    | 4004576 | 4028281\n",
       "0    | 6    | 4133372 | 4017227\n",
       "0    | 7    | 4152666 | 4022319\n",
       "0    | 8    | 4118349 | 4066194\n",
       "0    | 9    | 4106068 | 4061874\n",
       "... (296 rows omitted)"
      ]
     },
     "execution_count": 20,
     "metadata": {},
     "output_type": "execute_result"
    }
   ],
   "source": [
    "us_pop = partial_census_table.relabeled('POPESTIMATE2014', '2014').relabeled('POPESTIMATE2019', '2019')\n",
    "us_pop"
   ]
  },
  {
   "cell_type": "code",
   "execution_count": 21,
   "metadata": {},
   "outputs": [
    {
     "data": {
      "text/html": [
       "<table border=\"1\" class=\"dataframe\">\n",
       "    <thead>\n",
       "        <tr>\n",
       "            <th>AGE</th> <th>2014</th> <th>2019</th>\n",
       "        </tr>\n",
       "    </thead>\n",
       "    <tbody>\n",
       "        <tr>\n",
       "            <td>0   </td> <td>3954787</td> <td>3783052</td>\n",
       "        </tr>\n",
       "        <tr>\n",
       "            <td>1   </td> <td>3948891</td> <td>3829599</td>\n",
       "        </tr>\n",
       "        <tr>\n",
       "            <td>2   </td> <td>3958711</td> <td>3922044</td>\n",
       "        </tr>\n",
       "        <tr>\n",
       "            <td>3   </td> <td>4005928</td> <td>3998665</td>\n",
       "        </tr>\n",
       "        <tr>\n",
       "            <td>4   </td> <td>4004032</td> <td>4043323</td>\n",
       "        </tr>\n",
       "        <tr>\n",
       "            <td>5   </td> <td>4004576</td> <td>4028281</td>\n",
       "        </tr>\n",
       "        <tr>\n",
       "            <td>6   </td> <td>4133372</td> <td>4017227</td>\n",
       "        </tr>\n",
       "        <tr>\n",
       "            <td>7   </td> <td>4152666</td> <td>4022319</td>\n",
       "        </tr>\n",
       "        <tr>\n",
       "            <td>8   </td> <td>4118349</td> <td>4066194</td>\n",
       "        </tr>\n",
       "        <tr>\n",
       "            <td>9   </td> <td>4106068</td> <td>4061874</td>\n",
       "        </tr>\n",
       "    </tbody>\n",
       "</table>\n",
       "<p>... (92 rows omitted)</p>"
      ],
      "text/plain": [
       "AGE  | 2014    | 2019\n",
       "0    | 3954787 | 3783052\n",
       "1    | 3948891 | 3829599\n",
       "2    | 3958711 | 3922044\n",
       "3    | 4005928 | 3998665\n",
       "4    | 4004032 | 4043323\n",
       "5    | 4004576 | 4028281\n",
       "6    | 4133372 | 4017227\n",
       "7    | 4152666 | 4022319\n",
       "8    | 4118349 | 4066194\n",
       "9    | 4106068 | 4061874\n",
       "... (92 rows omitted)"
      ]
     },
     "execution_count": 21,
     "metadata": {},
     "output_type": "execute_result"
    }
   ],
   "source": [
    "us_pop_by_age = us_pop.where('SEX', are.equal_to(0)).drop('SEX')\n",
    "us_pop_by_age\n",
    "# Look at Sex = 0, total population numbers for each age group"
   ]
  },
  {
   "cell_type": "code",
   "execution_count": 23,
   "metadata": {},
   "outputs": [
    {
     "data": {
      "text/html": [
       "<table border=\"1\" class=\"dataframe\">\n",
       "    <thead>\n",
       "        <tr>\n",
       "            <th>AGE</th> <th>2014</th> <th>2019</th>\n",
       "        </tr>\n",
       "    </thead>\n",
       "    <tbody>\n",
       "        <tr>\n",
       "            <td>97  </td> <td>82948</td> <td>116969</td>\n",
       "        </tr>\n",
       "        <tr>\n",
       "            <td>98  </td> <td>59546</td> <td>86150 </td>\n",
       "        </tr>\n",
       "        <tr>\n",
       "            <td>99  </td> <td>41277</td> <td>57124 </td>\n",
       "        </tr>\n",
       "        <tr>\n",
       "            <td>100 </td> <td>70685</td> <td>100322</td>\n",
       "        </tr>\n",
       "    </tbody>\n",
       "</table>"
      ],
      "text/plain": [
       "AGE  | 2014  | 2019\n",
       "97   | 82948 | 116969\n",
       "98   | 59546 | 86150\n",
       "99   | 41277 | 57124\n",
       "100  | 70685 | 100322"
      ]
     },
     "execution_count": 23,
     "metadata": {},
     "output_type": "execute_result"
    }
   ],
   "source": [
    "us_pop_by_age.where('AGE', are.between(97, 101))\n",
    "# look at pop estimates of 97-100 year olds\n",
    "# row age 100 represents 100 + year olds,\n",
    "# 100, 101, 102...."
   ]
  },
  {
   "cell_type": "code",
   "execution_count": 24,
   "metadata": {},
   "outputs": [
    {
     "data": {
      "text/plain": [
       "array([-171735, -119292,  -36667,   -7263,   39291,   23705, -116145,\n",
       "       -130347,  -52155,  -44194,  -53618,  104804,  141200,    7126,\n",
       "        -66894,   12631,  -15505,  -39515,   34483,    9650, -141227,\n",
       "       -201943, -305343, -350651, -241835,   37812,  214055,  409073,\n",
       "        473478,  423954,  367437,  187860,  107298,  164752,  106148,\n",
       "        231701,  368026,  396847,  456720,  413012,  259488,  114457,\n",
       "       -109083, -465225, -408175, -309623, -172883,  -10547,  136860,\n",
       "        -67294, -382619, -471938, -465942, -454394, -257650,  -35878,\n",
       "        -23436,    6477,  204719,  267974,  276258,  389471,  479237,\n",
       "        431491,  468789,  397927,  277420,  -15667,  777964,  721963,\n",
       "        675278,  566691,  999406,  334331,  395023,  425854,  529432,\n",
       "        355290,  240082,  185899,  211738,  166007,   88415,   62136,\n",
       "         33339,      69,    3971,   11314,   30645,   39031,   26166,\n",
       "         42338,   41539,   36143,   47264,   51094,   37036,   34021,\n",
       "         26604,   15847,   29637, 9938515])"
      ]
     },
     "execution_count": 24,
     "metadata": {},
     "output_type": "execute_result"
    }
   ],
   "source": [
    "change = us_pop_by_age.column('2019') - us_pop_by_age.column('2014')\n",
    "change"
   ]
  },
  {
   "cell_type": "code",
   "execution_count": 25,
   "metadata": {},
   "outputs": [
    {
     "data": {
      "text/html": [
       "<table border=\"1\" class=\"dataframe\">\n",
       "    <thead>\n",
       "        <tr>\n",
       "            <th>AGE</th> <th>2014</th> <th>2019</th> <th>Change</th> <th>Percent Change</th>\n",
       "        </tr>\n",
       "    </thead>\n",
       "    <tbody>\n",
       "        <tr>\n",
       "            <td>0   </td> <td>3954787</td> <td>3783052</td> <td>-171735</td> <td>-4.34%        </td>\n",
       "        </tr>\n",
       "        <tr>\n",
       "            <td>1   </td> <td>3948891</td> <td>3829599</td> <td>-119292</td> <td>-3.02%        </td>\n",
       "        </tr>\n",
       "        <tr>\n",
       "            <td>2   </td> <td>3958711</td> <td>3922044</td> <td>-36667 </td> <td>-0.93%        </td>\n",
       "        </tr>\n",
       "        <tr>\n",
       "            <td>3   </td> <td>4005928</td> <td>3998665</td> <td>-7263  </td> <td>-0.18%        </td>\n",
       "        </tr>\n",
       "        <tr>\n",
       "            <td>4   </td> <td>4004032</td> <td>4043323</td> <td>39291  </td> <td>0.98%         </td>\n",
       "        </tr>\n",
       "        <tr>\n",
       "            <td>5   </td> <td>4004576</td> <td>4028281</td> <td>23705  </td> <td>0.59%         </td>\n",
       "        </tr>\n",
       "        <tr>\n",
       "            <td>6   </td> <td>4133372</td> <td>4017227</td> <td>-116145</td> <td>-2.81%        </td>\n",
       "        </tr>\n",
       "        <tr>\n",
       "            <td>7   </td> <td>4152666</td> <td>4022319</td> <td>-130347</td> <td>-3.14%        </td>\n",
       "        </tr>\n",
       "        <tr>\n",
       "            <td>8   </td> <td>4118349</td> <td>4066194</td> <td>-52155 </td> <td>-1.27%        </td>\n",
       "        </tr>\n",
       "        <tr>\n",
       "            <td>9   </td> <td>4106068</td> <td>4061874</td> <td>-44194 </td> <td>-1.08%        </td>\n",
       "        </tr>\n",
       "    </tbody>\n",
       "</table>\n",
       "<p>... (92 rows omitted)</p>"
      ],
      "text/plain": [
       "AGE  | 2014    | 2019    | Change  | Percent Change\n",
       "0    | 3954787 | 3783052 | -171735 | -4.34%\n",
       "1    | 3948891 | 3829599 | -119292 | -3.02%\n",
       "2    | 3958711 | 3922044 | -36667  | -0.93%\n",
       "3    | 4005928 | 3998665 | -7263   | -0.18%\n",
       "4    | 4004032 | 4043323 | 39291   | 0.98%\n",
       "5    | 4004576 | 4028281 | 23705   | 0.59%\n",
       "6    | 4133372 | 4017227 | -116145 | -2.81%\n",
       "7    | 4152666 | 4022319 | -130347 | -3.14%\n",
       "8    | 4118349 | 4066194 | -52155  | -1.27%\n",
       "9    | 4106068 | 4061874 | -44194  | -1.08%\n",
       "... (92 rows omitted)"
      ]
     },
     "execution_count": 25,
     "metadata": {},
     "output_type": "execute_result"
    }
   ],
   "source": [
    "us_pop_change = us_pop_by_age.with_columns(\n",
    "    'Change', change,\n",
    "    'Percent Change', change/us_pop_by_age.column('2014')\n",
    ")\n",
    "us_pop_change.set_format('Percent Change', PercentFormatter)"
   ]
  },
  {
   "cell_type": "code",
   "execution_count": 26,
   "metadata": {},
   "outputs": [
    {
     "data": {
      "text/html": [
       "<table border=\"1\" class=\"dataframe\">\n",
       "    <thead>\n",
       "        <tr>\n",
       "            <th>AGE</th> <th>2014</th> <th>2019</th> <th>Change</th> <th>Percent Change</th>\n",
       "        </tr>\n",
       "    </thead>\n",
       "    <tbody>\n",
       "        <tr>\n",
       "            <td>999 </td> <td>318301008</td> <td>328239523</td> <td>9938515</td> <td>3.12%         </td>\n",
       "        </tr>\n",
       "    </tbody>\n",
       "</table>"
      ],
      "text/plain": [
       "AGE  | 2014      | 2019      | Change  | Percent Change\n",
       "999  | 318301008 | 328239523 | 9938515 | 3.12%"
      ]
     },
     "execution_count": 26,
     "metadata": {},
     "output_type": "execute_result"
    }
   ],
   "source": [
    "us_pop_change.where('AGE', are.equal_to(999))\n",
    "# what does 3.12% mean in words?\n",
    "# from 2014 to 2019, our population ESTIMATE grows 3.12%"
   ]
  },
  {
   "cell_type": "code",
   "execution_count": 27,
   "metadata": {},
   "outputs": [
    {
     "data": {
      "text/html": [
       "<table border=\"1\" class=\"dataframe\">\n",
       "    <thead>\n",
       "        <tr>\n",
       "            <th>AGE</th> <th>2014</th> <th>2019</th> <th>Change</th> <th>Percent Change</th>\n",
       "        </tr>\n",
       "    </thead>\n",
       "    <tbody>\n",
       "        <tr>\n",
       "            <td>72  </td> <td>2191642</td> <td>3191048</td> <td>999406</td> <td>45.60%        </td>\n",
       "        </tr>\n",
       "        <tr>\n",
       "            <td>68  </td> <td>2567511</td> <td>3345475</td> <td>777964</td> <td>30.30%        </td>\n",
       "        </tr>\n",
       "        <tr>\n",
       "            <td>69  </td> <td>2530460</td> <td>3252423</td> <td>721963</td> <td>28.53%        </td>\n",
       "        </tr>\n",
       "        <tr>\n",
       "            <td>70  </td> <td>2461426</td> <td>3136704</td> <td>675278</td> <td>27.43%        </td>\n",
       "        </tr>\n",
       "        <tr>\n",
       "            <td>71  </td> <td>2516392</td> <td>3083083</td> <td>566691</td> <td>22.52%        </td>\n",
       "        </tr>\n",
       "        <tr>\n",
       "            <td>76  </td> <td>1692960</td> <td>2222392</td> <td>529432</td> <td>31.27%        </td>\n",
       "        </tr>\n",
       "        <tr>\n",
       "            <td>62  </td> <td>3677408</td> <td>4156645</td> <td>479237</td> <td>13.03%        </td>\n",
       "        </tr>\n",
       "        <tr>\n",
       "            <td>28  </td> <td>4345247</td> <td>4818725</td> <td>473478</td> <td>10.90%        </td>\n",
       "        </tr>\n",
       "        <tr>\n",
       "            <td>64  </td> <td>3481789</td> <td>3950578</td> <td>468789</td> <td>13.46%        </td>\n",
       "        </tr>\n",
       "        <tr>\n",
       "            <td>38  </td> <td>3848856</td> <td>4305576</td> <td>456720</td> <td>11.87%        </td>\n",
       "        </tr>\n",
       "    </tbody>\n",
       "</table>\n",
       "<p>... (91 rows omitted)</p>"
      ],
      "text/plain": [
       "AGE  | 2014    | 2019    | Change | Percent Change\n",
       "72   | 2191642 | 3191048 | 999406 | 45.60%\n",
       "68   | 2567511 | 3345475 | 777964 | 30.30%\n",
       "69   | 2530460 | 3252423 | 721963 | 28.53%\n",
       "70   | 2461426 | 3136704 | 675278 | 27.43%\n",
       "71   | 2516392 | 3083083 | 566691 | 22.52%\n",
       "76   | 1692960 | 2222392 | 529432 | 31.27%\n",
       "62   | 3677408 | 4156645 | 479237 | 13.03%\n",
       "28   | 4345247 | 4818725 | 473478 | 10.90%\n",
       "64   | 3481789 | 3950578 | 468789 | 13.46%\n",
       "38   | 3848856 | 4305576 | 456720 | 11.87%\n",
       "... (91 rows omitted)"
      ]
     },
     "execution_count": 27,
     "metadata": {},
     "output_type": "execute_result"
    }
   ],
   "source": [
    "us_pop_change.where(\n",
    "    'AGE', are.below(999) # find all the rows below 999, grab all the ages 0 - 100\n",
    ").sort('Change', descending=True) # sort by change, greatest to smallest\n",
    "\n",
    "#which age group grew the most? based on our estimates....\n",
    "\n"
   ]
  },
  {
   "cell_type": "code",
   "execution_count": 28,
   "metadata": {},
   "outputs": [
    {
     "data": {
      "text/html": [
       "<table border=\"1\" class=\"dataframe\">\n",
       "    <thead>\n",
       "        <tr>\n",
       "            <th>AGE</th> <th>2014</th> <th>2019</th> <th>Change</th> <th>Percent Change</th>\n",
       "        </tr>\n",
       "    </thead>\n",
       "    <tbody>\n",
       "        <tr>\n",
       "            <td>999 </td> <td>318301008</td> <td>328239523</td> <td>9938515</td> <td>3.12%         </td>\n",
       "        </tr>\n",
       "        <tr>\n",
       "            <td>72  </td> <td>2191642  </td> <td>3191048  </td> <td>999406 </td> <td>45.60%        </td>\n",
       "        </tr>\n",
       "        <tr>\n",
       "            <td>68  </td> <td>2567511  </td> <td>3345475  </td> <td>777964 </td> <td>30.30%        </td>\n",
       "        </tr>\n",
       "        <tr>\n",
       "            <td>69  </td> <td>2530460  </td> <td>3252423  </td> <td>721963 </td> <td>28.53%        </td>\n",
       "        </tr>\n",
       "        <tr>\n",
       "            <td>70  </td> <td>2461426  </td> <td>3136704  </td> <td>675278 </td> <td>27.43%        </td>\n",
       "        </tr>\n",
       "        <tr>\n",
       "            <td>71  </td> <td>2516392  </td> <td>3083083  </td> <td>566691 </td> <td>22.52%        </td>\n",
       "        </tr>\n",
       "        <tr>\n",
       "            <td>76  </td> <td>1692960  </td> <td>2222392  </td> <td>529432 </td> <td>31.27%        </td>\n",
       "        </tr>\n",
       "        <tr>\n",
       "            <td>62  </td> <td>3677408  </td> <td>4156645  </td> <td>479237 </td> <td>13.03%        </td>\n",
       "        </tr>\n",
       "        <tr>\n",
       "            <td>28  </td> <td>4345247  </td> <td>4818725  </td> <td>473478 </td> <td>10.90%        </td>\n",
       "        </tr>\n",
       "        <tr>\n",
       "            <td>64  </td> <td>3481789  </td> <td>3950578  </td> <td>468789 </td> <td>13.46%        </td>\n",
       "        </tr>\n",
       "    </tbody>\n",
       "</table>\n",
       "<p>... (92 rows omitted)</p>"
      ],
      "text/plain": [
       "AGE  | 2014      | 2019      | Change  | Percent Change\n",
       "999  | 318301008 | 328239523 | 9938515 | 3.12%\n",
       "72   | 2191642   | 3191048   | 999406  | 45.60%\n",
       "68   | 2567511   | 3345475   | 777964  | 30.30%\n",
       "69   | 2530460   | 3252423   | 721963  | 28.53%\n",
       "70   | 2461426   | 3136704   | 675278  | 27.43%\n",
       "71   | 2516392   | 3083083   | 566691  | 22.52%\n",
       "76   | 1692960   | 2222392   | 529432  | 31.27%\n",
       "62   | 3677408   | 4156645   | 479237  | 13.03%\n",
       "28   | 4345247   | 4818725   | 473478  | 10.90%\n",
       "64   | 3481789   | 3950578   | 468789  | 13.46%\n",
       "... (92 rows omitted)"
      ]
     },
     "execution_count": 28,
     "metadata": {},
     "output_type": "execute_result"
    }
   ],
   "source": [
    "us_pop_change.sort('Change', descending=True) \n",
    "# in raw numbers, total population age 999 will grow the most "
   ]
  },
  {
   "cell_type": "markdown",
   "metadata": {},
   "source": [
    "The Census form asks respondents to provide the sex of each household member by checking one of two boxes labeled Male and Female. The SEX column contains numeric codes: 1 for male, 2 for female, and 0 for the total.\n",
    "\n"
   ]
  },
  {
   "cell_type": "markdown",
   "metadata": {},
   "source": [
    "Take a look at the top few rows. While the percent change is about 3% for the overall population, it jumps to well over 20% for the people in their late sixties and early seventies. This stunning change contributes to what is known as the greying of America.\n",
    "\n",
    "What could explain this large increase? "
   ]
  },
  {
   "cell_type": "code",
   "execution_count": null,
   "metadata": {},
   "outputs": [],
   "source": [
    "# write comments here trying to answer the above question\n",
    "# how you would explain this significant trend to a stakeholder, health official, policy maker, user"
   ]
  },
  {
   "cell_type": "code",
   "execution_count": null,
   "metadata": {},
   "outputs": [],
   "source": []
  },
  {
   "cell_type": "markdown",
   "metadata": {},
   "source": [
    "We can explore this question by examining the years in which the relevant groups were born.\n",
    "\n",
    "Those who were in the age group 69 to 72 in 2014 were born in the years 1942 to 1945. The attack on Pearl Harbor was in late 1941, and by 1942 U.S. forces were heavily engaged in a massive war that ended in 1945.\n",
    "\n",
    "Those who were 69 to 72 years old in 2019 were born in the years 1947 to 1950, at the height of the post-WWII baby boom in the United States.\n",
    "\n",
    "The post-war jump in births is a major reason for the large changes that we have observed."
   ]
  },
  {
   "cell_type": "markdown",
   "metadata": {},
   "source": [
    "## Sex Ratios"
   ]
  },
  {
   "cell_type": "markdown",
   "metadata": {},
   "source": [
    "The Census form asks respondents to provide the sex of each household member by checking one of two boxes labeled Male and Female. The SEX column contains numeric codes: 1 for male, 2 for female, and 0 for the total.\n",
    "\n"
   ]
  },
  {
   "cell_type": "code",
   "execution_count": 29,
   "metadata": {},
   "outputs": [
    {
     "data": {
      "text/html": [
       "<table border=\"1\" class=\"dataframe\">\n",
       "    <thead>\n",
       "        <tr>\n",
       "            <th>SEX</th> <th>AGE</th> <th>2019</th>\n",
       "        </tr>\n",
       "    </thead>\n",
       "    <tbody>\n",
       "        <tr>\n",
       "            <td>0   </td> <td>999 </td> <td>328239523</td>\n",
       "        </tr>\n",
       "        <tr>\n",
       "            <td>1   </td> <td>999 </td> <td>161657324</td>\n",
       "        </tr>\n",
       "        <tr>\n",
       "            <td>2   </td> <td>999 </td> <td>166582199</td>\n",
       "        </tr>\n",
       "    </tbody>\n",
       "</table>"
      ],
      "text/plain": [
       "SEX  | AGE  | 2019\n",
       "0    | 999  | 328239523\n",
       "1    | 999  | 161657324\n",
       "2    | 999  | 166582199"
      ]
     },
     "execution_count": 29,
     "metadata": {},
     "output_type": "execute_result"
    }
   ],
   "source": [
    "us_pop_2019 = us_pop.drop('2014') # let's look at just 2019 population\n",
    "all_ages = us_pop_2019.where('AGE', are.equal_to(999)) # total population in 2019\n",
    "all_ages\n",
    "# age 999 = all ages added together"
   ]
  },
  {
   "cell_type": "code",
   "execution_count": 31,
   "metadata": {},
   "outputs": [
    {
     "data": {
      "text/plain": [
       "True"
      ]
     },
     "execution_count": 31,
     "metadata": {},
     "output_type": "execute_result"
    }
   ],
   "source": [
    "161657324 + 166582199 == 328239523"
   ]
  },
  {
   "cell_type": "code",
   "execution_count": 32,
   "metadata": {},
   "outputs": [
    {
     "data": {
      "text/html": [
       "<table border=\"1\" class=\"dataframe\">\n",
       "    <thead>\n",
       "        <tr>\n",
       "            <th>SEX</th> <th>AGE</th> <th>2019</th> <th>Proportion</th>\n",
       "        </tr>\n",
       "    </thead>\n",
       "    <tbody>\n",
       "        <tr>\n",
       "            <td>0   </td> <td>999 </td> <td>328239523</td> <td>100.00%   </td>\n",
       "        </tr>\n",
       "        <tr>\n",
       "            <td>1   </td> <td>999 </td> <td>161657324</td> <td>49.25%    </td>\n",
       "        </tr>\n",
       "        <tr>\n",
       "            <td>2   </td> <td>999 </td> <td>166582199</td> <td>50.75%    </td>\n",
       "        </tr>\n",
       "    </tbody>\n",
       "</table>"
      ],
      "text/plain": [
       "SEX  | AGE  | 2019      | Proportion\n",
       "0    | 999  | 328239523 | 100.00%\n",
       "1    | 999  | 161657324 | 49.25%\n",
       "2    | 999  | 166582199 | 50.75%"
      ]
     },
     "execution_count": 32,
     "metadata": {},
     "output_type": "execute_result"
    }
   ],
   "source": [
    "pop_2019 = all_ages.column('2019').item(0) # extract 2019 pop column as an array, let's look at total population \n",
    "# sex = 0 \n",
    "all_ages.with_column(\n",
    "    'Proportion', all_ages.column('2019')/pop_2019\n",
    ").set_format('Proportion', PercentFormatter)\n",
    "\n",
    "# 49.25% mean in words? males make up 49.25% of population ESTIMATE in 2019\n",
    "# what does 50.75% mean in words? ....\n"
   ]
  },
  {
   "cell_type": "code",
   "execution_count": 33,
   "metadata": {},
   "outputs": [
    {
     "data": {
      "text/plain": [
       "328239523"
      ]
     },
     "execution_count": 33,
     "metadata": {},
     "output_type": "execute_result"
    }
   ],
   "source": [
    "pop_2019"
   ]
  },
  {
   "cell_type": "code",
   "execution_count": 34,
   "metadata": {},
   "outputs": [
    {
     "data": {
      "text/html": [
       "<table border=\"1\" class=\"dataframe\">\n",
       "    <thead>\n",
       "        <tr>\n",
       "            <th>SEX</th> <th>AGE</th> <th>2019</th>\n",
       "        </tr>\n",
       "    </thead>\n",
       "    <tbody>\n",
       "        <tr>\n",
       "            <td>0   </td> <td>0   </td> <td>3783052</td>\n",
       "        </tr>\n",
       "        <tr>\n",
       "            <td>1   </td> <td>0   </td> <td>1935117</td>\n",
       "        </tr>\n",
       "        <tr>\n",
       "            <td>2   </td> <td>0   </td> <td>1847935</td>\n",
       "        </tr>\n",
       "    </tbody>\n",
       "</table>"
      ],
      "text/plain": [
       "SEX  | AGE  | 2019\n",
       "0    | 0    | 3783052\n",
       "1    | 0    | 1935117\n",
       "2    | 0    | 1847935"
      ]
     },
     "execution_count": 34,
     "metadata": {},
     "output_type": "execute_result"
    }
   ],
   "source": [
    "infants = us_pop_2019.where('AGE', are.equal_to(0))\n",
    "infants"
   ]
  },
  {
   "cell_type": "code",
   "execution_count": 35,
   "metadata": {},
   "outputs": [
    {
     "data": {
      "text/html": [
       "<table border=\"1\" class=\"dataframe\">\n",
       "    <thead>\n",
       "        <tr>\n",
       "            <th>SEX</th> <th>AGE</th> <th>2019</th> <th>Proportion</th>\n",
       "        </tr>\n",
       "    </thead>\n",
       "    <tbody>\n",
       "        <tr>\n",
       "            <td>0   </td> <td>0   </td> <td>3783052</td> <td>100.00%   </td>\n",
       "        </tr>\n",
       "        <tr>\n",
       "            <td>1   </td> <td>0   </td> <td>1935117</td> <td>51.15%    </td>\n",
       "        </tr>\n",
       "        <tr>\n",
       "            <td>2   </td> <td>0   </td> <td>1847935</td> <td>48.85%    </td>\n",
       "        </tr>\n",
       "    </tbody>\n",
       "</table>"
      ],
      "text/plain": [
       "SEX  | AGE  | 2019    | Proportion\n",
       "0    | 0    | 3783052 | 100.00%\n",
       "1    | 0    | 1935117 | 51.15%\n",
       "2    | 0    | 1847935 | 48.85%"
      ]
     },
     "execution_count": 35,
     "metadata": {},
     "output_type": "execute_result"
    }
   ],
   "source": [
    "infants_2019 = infants.column('2019').item(0) # write comments, created new infant table, grabbing total infant pop\n",
    "infants.with_column( # adds a new column\n",
    "    'Proportion', infants.column('2019')/infants_2019 # dividing male and female populations by total population\n",
    ").set_format('Proportion', PercentFormatter) # converting proportions to percentages"
   ]
  },
  {
   "cell_type": "code",
   "execution_count": 36,
   "metadata": {},
   "outputs": [
    {
     "data": {
      "text/html": [
       "<table border=\"1\" class=\"dataframe\">\n",
       "    <thead>\n",
       "        <tr>\n",
       "            <th>SEX</th> <th>AGE</th> <th>2019</th>\n",
       "        </tr>\n",
       "    </thead>\n",
       "    <tbody>\n",
       "        <tr>\n",
       "            <td>2   </td> <td>0   </td> <td>1847935</td>\n",
       "        </tr>\n",
       "        <tr>\n",
       "            <td>2   </td> <td>1   </td> <td>1871014</td>\n",
       "        </tr>\n",
       "        <tr>\n",
       "            <td>2   </td> <td>2   </td> <td>1916500</td>\n",
       "        </tr>\n",
       "        <tr>\n",
       "            <td>2   </td> <td>3   </td> <td>1955655</td>\n",
       "        </tr>\n",
       "        <tr>\n",
       "            <td>2   </td> <td>4   </td> <td>1976372</td>\n",
       "        </tr>\n",
       "        <tr>\n",
       "            <td>2   </td> <td>5   </td> <td>1967081</td>\n",
       "        </tr>\n",
       "        <tr>\n",
       "            <td>2   </td> <td>6   </td> <td>1964271</td>\n",
       "        </tr>\n",
       "        <tr>\n",
       "            <td>2   </td> <td>7   </td> <td>1966584</td>\n",
       "        </tr>\n",
       "        <tr>\n",
       "            <td>2   </td> <td>8   </td> <td>1986471</td>\n",
       "        </tr>\n",
       "        <tr>\n",
       "            <td>2   </td> <td>9   </td> <td>1988726</td>\n",
       "        </tr>\n",
       "    </tbody>\n",
       "</table>\n",
       "<p>... (91 rows omitted)</p>"
      ],
      "text/plain": [
       "SEX  | AGE  | 2019\n",
       "2    | 0    | 1847935\n",
       "2    | 1    | 1871014\n",
       "2    | 2    | 1916500\n",
       "2    | 3    | 1955655\n",
       "2    | 4    | 1976372\n",
       "2    | 5    | 1967081\n",
       "2    | 6    | 1964271\n",
       "2    | 7    | 1966584\n",
       "2    | 8    | 1986471\n",
       "2    | 9    | 1988726\n",
       "... (91 rows omitted)"
      ]
     },
     "execution_count": 36,
     "metadata": {},
     "output_type": "execute_result"
    }
   ],
   "source": [
    "females_all_rows = us_pop_2019.where('SEX', are.equal_to(2)) # SEX = 2 females\n",
    "females = females_all_rows.where('AGE', are.not_equal_to(999)) # age group totals, not 999\n",
    "females"
   ]
  },
  {
   "cell_type": "code",
   "execution_count": 37,
   "metadata": {},
   "outputs": [
    {
     "data": {
      "text/html": [
       "<table border=\"1\" class=\"dataframe\">\n",
       "    <thead>\n",
       "        <tr>\n",
       "            <th>SEX</th> <th>AGE</th> <th>2019</th>\n",
       "        </tr>\n",
       "    </thead>\n",
       "    <tbody>\n",
       "        <tr>\n",
       "            <td>1   </td> <td>0   </td> <td>1935117</td>\n",
       "        </tr>\n",
       "        <tr>\n",
       "            <td>1   </td> <td>1   </td> <td>1958585</td>\n",
       "        </tr>\n",
       "        <tr>\n",
       "            <td>1   </td> <td>2   </td> <td>2005544</td>\n",
       "        </tr>\n",
       "        <tr>\n",
       "            <td>1   </td> <td>3   </td> <td>2043010</td>\n",
       "        </tr>\n",
       "        <tr>\n",
       "            <td>1   </td> <td>4   </td> <td>2066951</td>\n",
       "        </tr>\n",
       "        <tr>\n",
       "            <td>1   </td> <td>5   </td> <td>2061200</td>\n",
       "        </tr>\n",
       "        <tr>\n",
       "            <td>1   </td> <td>6   </td> <td>2052956</td>\n",
       "        </tr>\n",
       "        <tr>\n",
       "            <td>1   </td> <td>7   </td> <td>2055735</td>\n",
       "        </tr>\n",
       "        <tr>\n",
       "            <td>1   </td> <td>8   </td> <td>2079723</td>\n",
       "        </tr>\n",
       "        <tr>\n",
       "            <td>1   </td> <td>9   </td> <td>2073148</td>\n",
       "        </tr>\n",
       "    </tbody>\n",
       "</table>\n",
       "<p>... (91 rows omitted)</p>"
      ],
      "text/plain": [
       "SEX  | AGE  | 2019\n",
       "1    | 0    | 1935117\n",
       "1    | 1    | 1958585\n",
       "1    | 2    | 2005544\n",
       "1    | 3    | 2043010\n",
       "1    | 4    | 2066951\n",
       "1    | 5    | 2061200\n",
       "1    | 6    | 2052956\n",
       "1    | 7    | 2055735\n",
       "1    | 8    | 2079723\n",
       "1    | 9    | 2073148\n",
       "... (91 rows omitted)"
      ]
     },
     "execution_count": 37,
     "metadata": {},
     "output_type": "execute_result"
    }
   ],
   "source": [
    "males_all_rows = us_pop_2019.where('SEX', are.equal_to(1))\n",
    "males = males_all_rows.where('AGE', are.not_equal_to(999))\n",
    "males"
   ]
  },
  {
   "cell_type": "code",
   "execution_count": 38,
   "metadata": {},
   "outputs": [
    {
     "data": {
      "text/plain": [
       "array([  0,   1,   2,   3,   4,   5,   6,   7,   8,   9,  10,  11,  12,\n",
       "        13,  14,  15,  16,  17,  18,  19,  20,  21,  22,  23,  24,  25,\n",
       "        26,  27,  28,  29,  30,  31,  32,  33,  34,  35,  36,  37,  38,\n",
       "        39,  40,  41,  42,  43,  44,  45,  46,  47,  48,  49,  50,  51,\n",
       "        52,  53,  54,  55,  56,  57,  58,  59,  60,  61,  62,  63,  64,\n",
       "        65,  66,  67,  68,  69,  70,  71,  72,  73,  74,  75,  76,  77,\n",
       "        78,  79,  80,  81,  82,  83,  84,  85,  86,  87,  88,  89,  90,\n",
       "        91,  92,  93,  94,  95,  96,  97,  98,  99, 100])"
      ]
     },
     "execution_count": 38,
     "metadata": {},
     "output_type": "execute_result"
    }
   ],
   "source": [
    "males.column('AGE') # extract pop column from males as an array"
   ]
  },
  {
   "cell_type": "code",
   "execution_count": 39,
   "metadata": {},
   "outputs": [
    {
     "data": {
      "text/plain": [
       "array([  0,   1,   2,   3,   4,   5,   6,   7,   8,   9,  10,  11,  12,\n",
       "        13,  14,  15,  16,  17,  18,  19,  20,  21,  22,  23,  24,  25,\n",
       "        26,  27,  28,  29,  30,  31,  32,  33,  34,  35,  36,  37,  38,\n",
       "        39,  40,  41,  42,  43,  44,  45,  46,  47,  48,  49,  50,  51,\n",
       "        52,  53,  54,  55,  56,  57,  58,  59,  60,  61,  62,  63,  64,\n",
       "        65,  66,  67,  68,  69,  70,  71,  72,  73,  74,  75,  76,  77,\n",
       "        78,  79,  80,  81,  82,  83,  84,  85,  86,  87,  88,  89,  90,\n",
       "        91,  92,  93,  94,  95,  96,  97,  98,  99, 100])"
      ]
     },
     "execution_count": 39,
     "metadata": {},
     "output_type": "execute_result"
    }
   ],
   "source": [
    "females.column('AGE')"
   ]
  },
  {
   "cell_type": "code",
   "execution_count": 45,
   "metadata": {},
   "outputs": [
    {
     "data": {
      "text/html": [
       "<table border=\"1\" class=\"dataframe\">\n",
       "    <thead>\n",
       "        <tr>\n",
       "            <th>AGE</th> <th>2019 F:M RATIO</th>\n",
       "        </tr>\n",
       "    </thead>\n",
       "    <tbody>\n",
       "        <tr>\n",
       "            <td>0   </td> <td>0.954947      </td>\n",
       "        </tr>\n",
       "        <tr>\n",
       "            <td>1   </td> <td>0.955289      </td>\n",
       "        </tr>\n",
       "        <tr>\n",
       "            <td>2   </td> <td>0.955601      </td>\n",
       "        </tr>\n",
       "        <tr>\n",
       "            <td>3   </td> <td>0.957242      </td>\n",
       "        </tr>\n",
       "        <tr>\n",
       "            <td>4   </td> <td>0.956177      </td>\n",
       "        </tr>\n",
       "        <tr>\n",
       "            <td>5   </td> <td>0.954338      </td>\n",
       "        </tr>\n",
       "        <tr>\n",
       "            <td>6   </td> <td>0.956801      </td>\n",
       "        </tr>\n",
       "        <tr>\n",
       "            <td>7   </td> <td>0.956633      </td>\n",
       "        </tr>\n",
       "        <tr>\n",
       "            <td>8   </td> <td>0.955161      </td>\n",
       "        </tr>\n",
       "        <tr>\n",
       "            <td>9   </td> <td>0.959278      </td>\n",
       "        </tr>\n",
       "    </tbody>\n",
       "</table>\n",
       "<p>... (91 rows omitted)</p>"
      ],
      "text/plain": [
       "AGE  | 2019 F:M RATIO\n",
       "0    | 0.954947\n",
       "1    | 0.955289\n",
       "2    | 0.955601\n",
       "3    | 0.957242\n",
       "4    | 0.956177\n",
       "5    | 0.954338\n",
       "6    | 0.956801\n",
       "7    | 0.956633\n",
       "8    | 0.955161\n",
       "9    | 0.959278\n",
       "... (91 rows omitted)"
      ]
     },
     "execution_count": 45,
     "metadata": {},
     "output_type": "execute_result"
    }
   ],
   "source": [
    "ratios = Table().with_columns( # initialized a new table, adding two columns\n",
    "    'AGE', females.column('AGE'), # adding age column from female table\n",
    "    '2019 F:M RATIO', females.column('2019')/males.column('2019') # second column for ratio female: male\n",
    ")\n",
    "ratios"
   ]
  },
  {
   "cell_type": "code",
   "execution_count": 44,
   "metadata": {},
   "outputs": [
    {
     "data": {
      "text/html": [
       "<table border=\"1\" class=\"dataframe\">\n",
       "    <thead>\n",
       "        <tr>\n",
       "            <th>AGE</th> <th>2019 F:M RATIO</th>\n",
       "        </tr>\n",
       "    </thead>\n",
       "    <tbody>\n",
       "        <tr>\n",
       "            <td>76  </td> <td>1.21422       </td>\n",
       "        </tr>\n",
       "        <tr>\n",
       "            <td>77  </td> <td>1.23558       </td>\n",
       "        </tr>\n",
       "        <tr>\n",
       "            <td>78  </td> <td>1.26373       </td>\n",
       "        </tr>\n",
       "        <tr>\n",
       "            <td>79  </td> <td>1.28129       </td>\n",
       "        </tr>\n",
       "        <tr>\n",
       "            <td>80  </td> <td>1.29209       </td>\n",
       "        </tr>\n",
       "        <tr>\n",
       "            <td>81  </td> <td>1.32745       </td>\n",
       "        </tr>\n",
       "        <tr>\n",
       "            <td>82  </td> <td>1.36101       </td>\n",
       "        </tr>\n",
       "        <tr>\n",
       "            <td>83  </td> <td>1.39749       </td>\n",
       "        </tr>\n",
       "        <tr>\n",
       "            <td>84  </td> <td>1.44603       </td>\n",
       "        </tr>\n",
       "        <tr>\n",
       "            <td>85  </td> <td>1.48588       </td>\n",
       "        </tr>\n",
       "        <tr>\n",
       "            <td>86  </td> <td>1.53967       </td>\n",
       "        </tr>\n",
       "        <tr>\n",
       "            <td>87  </td> <td>1.59775       </td>\n",
       "        </tr>\n",
       "        <tr>\n",
       "            <td>88  </td> <td>1.66125       </td>\n",
       "        </tr>\n",
       "        <tr>\n",
       "            <td>89  </td> <td>1.73365       </td>\n",
       "        </tr>\n",
       "        <tr>\n",
       "            <td>90  </td> <td>1.80539       </td>\n",
       "        </tr>\n",
       "        <tr>\n",
       "            <td>91  </td> <td>1.90275       </td>\n",
       "        </tr>\n",
       "        <tr>\n",
       "            <td>92  </td> <td>1.99252       </td>\n",
       "        </tr>\n",
       "        <tr>\n",
       "            <td>93  </td> <td>2.10192       </td>\n",
       "        </tr>\n",
       "        <tr>\n",
       "            <td>94  </td> <td>2.2271        </td>\n",
       "        </tr>\n",
       "        <tr>\n",
       "            <td>95  </td> <td>2.34042       </td>\n",
       "        </tr>\n",
       "        <tr>\n",
       "            <td>96  </td> <td>2.41969       </td>\n",
       "        </tr>\n",
       "        <tr>\n",
       "            <td>97  </td> <td>2.5868        </td>\n",
       "        </tr>\n",
       "        <tr>\n",
       "            <td>98  </td> <td>2.65926       </td>\n",
       "        </tr>\n",
       "        <tr>\n",
       "            <td>99  </td> <td>2.91367       </td>\n",
       "        </tr>\n",
       "        <tr>\n",
       "            <td>100 </td> <td>3.27411       </td>\n",
       "        </tr>\n",
       "    </tbody>\n",
       "</table>"
      ],
      "text/plain": [
       "<IPython.core.display.HTML object>"
      ]
     },
     "metadata": {},
     "output_type": "display_data"
    }
   ],
   "source": [
    "# give me all those older than 75 years old, from ratios table\n",
    "\n",
    "\n",
    "\n",
    "\n",
    "\n",
    "\n",
    "\n",
    "\n",
    "ratios.where('AGE', are.above(75)).show()"
   ]
  },
  {
   "cell_type": "code",
   "execution_count": 47,
   "metadata": {},
   "outputs": [
    {
     "data": {
      "text/html": [
       "<table border=\"1\" class=\"dataframe\">\n",
       "    <thead>\n",
       "        <tr>\n",
       "            <th>SEX</th> <th>AGE</th> <th>2019</th>\n",
       "        </tr>\n",
       "    </thead>\n",
       "    <tbody>\n",
       "        <tr>\n",
       "            <td>1   </td> <td>92  </td> <td>131684</td>\n",
       "        </tr>\n",
       "        <tr>\n",
       "            <td>1   </td> <td>93  </td> <td>103415</td>\n",
       "        </tr>\n",
       "        <tr>\n",
       "            <td>1   </td> <td>99  </td> <td>14596 </td>\n",
       "        </tr>\n",
       "    </tbody>\n",
       "</table>"
      ],
      "text/plain": [
       "SEX  | AGE  | 2019\n",
       "1    | 92   | 131684\n",
       "1    | 93   | 103415\n",
       "1    | 99   | 14596"
      ]
     },
     "execution_count": 47,
     "metadata": {},
     "output_type": "execute_result"
    }
   ],
   "source": [
    "# give me all males who are 92, 93 and 99 years old in a table\n",
    "# HINT: predicates...\n",
    "\n",
    "# BONUS: what about females who are 92, 93, and 99 years old?\n",
    "\n",
    "\n",
    "\n",
    "\n",
    "\n",
    "\n",
    "males.where('AGE', are.contained_in(make_array(92, 93, 99)))\n",
    "#males.where('AGE', are.contained_in(92, 93, 99)) gives us an error"
   ]
  },
  {
   "cell_type": "code",
   "execution_count": null,
   "metadata": {},
   "outputs": [],
   "source": [
    "# what about females 92, 93 and 99 years old?\n",
    "\n",
    "\n",
    "\n",
    "\n",
    "\n",
    "\n",
    "\n",
    "\n",
    "\n",
    "females.where('AGE', are.contained_in(make_array(92, 93, 99)))"
   ]
  },
  {
   "cell_type": "markdown",
   "metadata": {},
   "source": [
    "## Visualization ##"
   ]
  },
  {
   "cell_type": "code",
   "execution_count": null,
   "metadata": {},
   "outputs": [],
   "source": [
    "ratios.plot('AGE')"
   ]
  }
 ],
 "metadata": {
  "anaconda-cloud": {},
  "kernelspec": {
   "display_name": "Python 3 (ipykernel)",
   "language": "python",
   "name": "python3"
  },
  "language_info": {
   "codemirror_mode": {
    "name": "ipython",
    "version": 3
   },
   "file_extension": ".py",
   "mimetype": "text/x-python",
   "name": "python",
   "nbconvert_exporter": "python",
   "pygments_lexer": "ipython3",
   "version": "3.10.6"
  },
  "toc": {
   "base_numbering": 1,
   "nav_menu": {},
   "number_sections": false,
   "sideBar": true,
   "skip_h1_title": false,
   "title_cell": "Table of Contents",
   "title_sidebar": "Contents",
   "toc_cell": false,
   "toc_position": {},
   "toc_section_display": true,
   "toc_window_display": false
  }
 },
 "nbformat": 4,
 "nbformat_minor": 1
}
